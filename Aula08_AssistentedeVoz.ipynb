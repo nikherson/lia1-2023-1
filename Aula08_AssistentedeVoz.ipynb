{
  "nbformat": 4,
  "nbformat_minor": 0,
  "metadata": {
    "colab": {
      "provenance": [],
      "authorship_tag": "ABX9TyOsErluUwVJSBzE1br7XU6V",
      "include_colab_link": true
    },
    "kernelspec": {
      "name": "python3",
      "display_name": "Python 3"
    },
    "language_info": {
      "name": "python"
    }
  },
  "cells": [
    {
      "cell_type": "markdown",
      "metadata": {
        "id": "view-in-github",
        "colab_type": "text"
      },
      "source": [
        "<a href=\"https://colab.research.google.com/github/nikherson/lia1-2023-1/blob/main/Aula08_AssistentedeVoz.ipynb\" target=\"_parent\"><img src=\"https://colab.research.google.com/assets/colab-badge.svg\" alt=\"Open In Colab\"/></a>"
      ]
    },
    {
      "cell_type": "code",
      "execution_count": null,
      "metadata": {
        "id": "qvAbZrc2f-dp"
      },
      "outputs": [],
      "source": [
        "# import speech_recognition as sr\n",
        "\n",
        "# rcg = sr.Recognizer()\n",
        "\n",
        "# with sr.Microphone as source:\n",
        "#     while True:\n",
        "#         audio = rcg.listen(source)\n",
        "#         print(r.recognize_google(audio, language='pt'))\n",
        "\n",
        "from vosk import Model, KaldiRecognizer\n",
        "import os\n",
        "import pyaudio\n",
        "\n",
        "model = Model(model_name = 'vosk-model-small-pt-0.3')\n",
        "rec = KaldiRecognizer(model, 16000)\n",
        "\n",
        "p = pyaudio.PyAudio()\n",
        "stream = p.open(format=pyaudio.paInt16, channels=1, rate=16000, input=True, frames_per_buffer=8000)\n",
        "stream.start_stream()\n",
        "\n",
        "while True:\n",
        "    data = stream.read(4000)\n",
        "    if len(data) == 0:\n",
        "        break\n",
        "    if rec.AcceptWaveform(data):\n",
        "        print(rec.Result())\n",
        "    else:\n",
        "        print(rec.PartialResult())\n",
        "\n",
        "print(rec.FinalResult())"
      ]
    }
  ]
}