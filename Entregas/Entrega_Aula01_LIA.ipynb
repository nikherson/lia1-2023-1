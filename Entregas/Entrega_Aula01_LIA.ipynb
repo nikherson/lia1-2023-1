{
  "cells": [
    {
      "cell_type": "markdown",
      "metadata": {
        "id": "view-in-github",
        "colab_type": "text"
      },
      "source": [
        "<a href=\"https://colab.research.google.com/github/nikherson/lia1-2023-1/blob/main/Aula_1_LIA.ipynb\" target=\"_parent\"><img src=\"https://colab.research.google.com/assets/colab-badge.svg\" alt=\"Open In Colab\"/></a>"
      ]
    },
    {
      "cell_type": "markdown",
      "id": "c20fa5b3",
      "metadata": {
        "id": "c20fa5b3"
      },
      "source": [
        "<hr style=\"height:10px\"> \n",
        " \n",
        "<div class='container2'>\t\n",
        "\t<div style='padding: 0 7em 2em 12em;'>\n",
        "\t<h1>Laboratório de Inovação e Automação 1 (LIA 1)</h1>\n",
        "\t<div style=\"font-size:12pt;float:left;\"> 2023/1 | 46M34 | Sala 200 CAE</div><br><br>\n",
        "    <div style=\"font-size:12pt;float:left;\"><b>Projetos de Inteligência Artificial</b></div>\n",
        "\t</div>\n",
        "</div>\n",
        "\n",
        "\n",
        " <hr style=\"height:5px\"> \n",
        "\n",
        "    \n",
        "<h2>Introdução ao Ambiente de Projetos</h2>\n",
        "\n",
        "Notebook desenvolvido por: <a href=\"http://lattes.cnpq.br/1346824250595330\">Aluno: Nikherson Brenno Souza Silva</a>\n",
        "\n",
        " <hr style=\"height:2px\"> "
      ]
    },
    {
      "cell_type": "code",
      "source": [
        "from google.colab import drive\n",
        "drive.mount('/content/drive')"
      ],
      "metadata": {
        "colab": {
          "base_uri": "https://localhost:8080/"
        },
        "id": "aEHLIgaJIhTw",
        "outputId": "013eec9d-9fc3-44e6-f943-5c58528ead6d"
      },
      "id": "aEHLIgaJIhTw",
      "execution_count": 18,
      "outputs": [
        {
          "output_type": "stream",
          "name": "stdout",
          "text": [
            "Mounted at /content/drive\n"
          ]
        }
      ]
    },
    {
      "cell_type": "code",
      "execution_count": 1,
      "id": "6cf9c30e",
      "metadata": {
        "id": "6cf9c30e"
      },
      "outputs": [],
      "source": [
        "from platform import python_version"
      ]
    },
    {
      "cell_type": "code",
      "execution_count": 2,
      "id": "8a7a8f10",
      "metadata": {
        "colab": {
          "base_uri": "https://localhost:8080/"
        },
        "id": "8a7a8f10",
        "outputId": "8e53e61f-83eb-454e-d86d-29f22a101779"
      },
      "outputs": [
        {
          "output_type": "stream",
          "name": "stdout",
          "text": [
            "A versão da linguagem Python usada neste projeto é a 3.10.11.\n"
          ]
        }
      ],
      "source": [
        "#Confirmar a versão da Linguagem Python instalada\n",
        "from platform import python_version\n",
        "print(f'A versão da linguagem Python usada neste projeto é a {python_version()}.')"
      ]
    },
    {
      "cell_type": "code",
      "execution_count": 3,
      "id": "9cf7f0d8",
      "metadata": {
        "colab": {
          "base_uri": "https://localhost:8080/"
        },
        "id": "9cf7f0d8",
        "outputId": "76440695-594d-4530-a5bf-d32e23f97dea"
      },
      "outputs": [
        {
          "output_type": "stream",
          "name": "stdout",
          "text": [
            "Bye Bye, World\n"
          ]
        }
      ],
      "source": [
        "#Verificar se o Python está funcionando\n",
        "print(\"Bye Bye, World\")"
      ]
    },
    {
      "cell_type": "markdown",
      "id": "36231540",
      "metadata": {
        "id": "36231540"
      },
      "source": [
        "## Operadores Aritméticos"
      ]
    },
    {
      "cell_type": "code",
      "execution_count": 4,
      "id": "0429686e",
      "metadata": {
        "colab": {
          "base_uri": "https://localhost:8080/"
        },
        "id": "0429686e",
        "outputId": "a4aeb3b7-7c96-41ac-bae3-c316ece8a48a"
      },
      "outputs": [
        {
          "output_type": "execute_result",
          "data": {
            "text/plain": [
              "2"
            ]
          },
          "metadata": {},
          "execution_count": 4
        }
      ],
      "source": [
        "#Adição\n",
        "1+1"
      ]
    },
    {
      "cell_type": "code",
      "execution_count": 5,
      "id": "dfbedbbc",
      "metadata": {
        "colab": {
          "base_uri": "https://localhost:8080/"
        },
        "id": "dfbedbbc",
        "outputId": "19d30772-b55a-4fd2-f938-e26b10fa6a26"
      },
      "outputs": [
        {
          "output_type": "execute_result",
          "data": {
            "text/plain": [
              "1"
            ]
          },
          "metadata": {},
          "execution_count": 5
        }
      ],
      "source": [
        "#Subtração\n",
        "2-1"
      ]
    },
    {
      "cell_type": "code",
      "execution_count": 6,
      "id": "04cd55a1",
      "metadata": {
        "colab": {
          "base_uri": "https://localhost:8080/"
        },
        "id": "04cd55a1",
        "outputId": "4726be3f-01a8-452c-d5a7-72ab156af7fc"
      },
      "outputs": [
        {
          "output_type": "execute_result",
          "data": {
            "text/plain": [
              "4"
            ]
          },
          "metadata": {},
          "execution_count": 6
        }
      ],
      "source": [
        "#Multiplicação\n",
        "2*2"
      ]
    },
    {
      "cell_type": "code",
      "execution_count": 7,
      "id": "dd7050b3",
      "metadata": {
        "colab": {
          "base_uri": "https://localhost:8080/"
        },
        "id": "dd7050b3",
        "outputId": "b7dac92f-8694-4450-9831-335263da20bd"
      },
      "outputs": [
        {
          "output_type": "execute_result",
          "data": {
            "text/plain": [
              "1.0"
            ]
          },
          "metadata": {},
          "execution_count": 7
        }
      ],
      "source": [
        "#Divisão\n",
        "2/2"
      ]
    },
    {
      "cell_type": "code",
      "execution_count": 8,
      "id": "5cb29590",
      "metadata": {
        "colab": {
          "base_uri": "https://localhost:8080/"
        },
        "id": "5cb29590",
        "outputId": "55f2e620-f1cc-42bd-9963-9b43d734d9c9"
      },
      "outputs": [
        {
          "output_type": "execute_result",
          "data": {
            "text/plain": [
              "16"
            ]
          },
          "metadata": {},
          "execution_count": 8
        }
      ],
      "source": [
        "#Potência\n",
        "4**2"
      ]
    },
    {
      "cell_type": "code",
      "execution_count": 9,
      "id": "538b86fb",
      "metadata": {
        "colab": {
          "base_uri": "https://localhost:8080/"
        },
        "id": "538b86fb",
        "outputId": "d8a7286c-38cc-4df8-c10d-e302f55766a2"
      },
      "outputs": [
        {
          "output_type": "execute_result",
          "data": {
            "text/plain": [
              "1"
            ]
          },
          "metadata": {},
          "execution_count": 9
        }
      ],
      "source": [
        "#Módulo (resto da divisão)\n",
        "10%3"
      ]
    },
    {
      "cell_type": "markdown",
      "id": "18a5242d",
      "metadata": {
        "id": "18a5242d"
      },
      "source": [
        "# Tipo de Dado (Type)"
      ]
    },
    {
      "cell_type": "code",
      "execution_count": 10,
      "id": "a1398c40",
      "metadata": {
        "colab": {
          "base_uri": "https://localhost:8080/"
        },
        "id": "a1398c40",
        "outputId": "88948dcd-3066-44e9-c34d-e1a751a0ffc2"
      },
      "outputs": [
        {
          "output_type": "execute_result",
          "data": {
            "text/plain": [
              "int"
            ]
          },
          "metadata": {},
          "execution_count": 10
        }
      ],
      "source": [
        "#Qual o tipo do (?) -> Inteiro\n",
        "type(5)"
      ]
    },
    {
      "cell_type": "code",
      "execution_count": 11,
      "id": "34af850b",
      "metadata": {
        "colab": {
          "base_uri": "https://localhost:8080/"
        },
        "id": "34af850b",
        "outputId": "a5c5d77c-dbff-4a3d-af87-f69a78a1e7c8"
      },
      "outputs": [
        {
          "output_type": "execute_result",
          "data": {
            "text/plain": [
              "float"
            ]
          },
          "metadata": {},
          "execution_count": 11
        }
      ],
      "source": [
        "#Qual o tipo do (?) -> Float - Decimal\n",
        "type(5.0)"
      ]
    },
    {
      "cell_type": "code",
      "execution_count": 12,
      "id": "0209108e",
      "metadata": {
        "colab": {
          "base_uri": "https://localhost:8080/"
        },
        "id": "0209108e",
        "outputId": "665e55f9-8d02-490b-9c70-18671c18168e"
      },
      "outputs": [
        {
          "output_type": "execute_result",
          "data": {
            "text/plain": [
              "str"
            ]
          },
          "metadata": {},
          "execution_count": 12
        }
      ],
      "source": [
        "#Qual o tipo do (?) -> String\n",
        "a = \"Estudando Python\"\n",
        "type(a)"
      ]
    },
    {
      "cell_type": "markdown",
      "id": "4fc4858c",
      "metadata": {
        "id": "4fc4858c"
      },
      "source": [
        "# Condicional if"
      ]
    },
    {
      "cell_type": "code",
      "execution_count": 13,
      "id": "3f29b6a7",
      "metadata": {
        "colab": {
          "base_uri": "https://localhost:8080/"
        },
        "id": "3f29b6a7",
        "outputId": "22ce1d75-8cbe-4f5d-8833-60c1005176c4"
      },
      "outputs": [
        {
          "output_type": "stream",
          "name": "stdout",
          "text": [
            "A sentença é verdadeira\n"
          ]
        }
      ],
      "source": [
        "#Condicional if\n",
        "if 5 > 2:\n",
        "    print(\"A sentença é verdadeira\")"
      ]
    },
    {
      "cell_type": "code",
      "execution_count": 14,
      "id": "5dd54996",
      "metadata": {
        "colab": {
          "base_uri": "https://localhost:8080/"
        },
        "id": "5dd54996",
        "outputId": "39006f72-cde8-4ebd-ccdf-d4869993c334"
      },
      "outputs": [
        {
          "output_type": "stream",
          "name": "stdout",
          "text": [
            "A sentença é falsa\n"
          ]
        }
      ],
      "source": [
        "#Condicional if ... else\n",
        "if 5 < 2:\n",
        "    print(\"A senteça é verdadeira\")\n",
        "else:\n",
        "    print(\"A sentença é falsa\")"
      ]
    },
    {
      "cell_type": "code",
      "execution_count": 15,
      "id": "2cf7b558",
      "metadata": {
        "colab": {
          "base_uri": "https://localhost:8080/"
        },
        "id": "2cf7b558",
        "outputId": "5244f233-32d9-46b1-ace3-35b27d34b6af"
      },
      "outputs": [
        {
          "output_type": "stream",
          "name": "stdout",
          "text": [
            "Hoje vai chover!\n"
          ]
        }
      ],
      "source": [
        "#Condicional if ... else com variável\n",
        "dia = \"Quarta-feira\"\n",
        "if dia == \"Sexta-feira\":\n",
        "    print(\"Hoje fará sol!\")\n",
        "else:\n",
        "    print(\"Hoje vai chover!\")"
      ]
    },
    {
      "cell_type": "markdown",
      "id": "057b4a56",
      "metadata": {
        "id": "057b4a56"
      },
      "source": [
        "# Manipulando arquivos"
      ]
    },
    {
      "cell_type": "code",
      "source": [
        "path = '/content/drive/MyDrive/LIA1/'"
      ],
      "metadata": {
        "id": "MyFNJOXYJhEl"
      },
      "id": "MyFNJOXYJhEl",
      "execution_count": 40,
      "outputs": []
    },
    {
      "cell_type": "markdown",
      "id": "2001b46f",
      "metadata": {
        "id": "2001b46f"
      },
      "source": [
        "## Lendo arquivos (.txt)"
      ]
    },
    {
      "cell_type": "code",
      "execution_count": 41,
      "id": "6ac3059c",
      "metadata": {
        "id": "6ac3059c"
      },
      "outputs": [],
      "source": [
        "# Abrindo o arquivo para leitura\n",
        "a1 = open(f'{path}/arquivo.txt', 'r')"
      ]
    },
    {
      "cell_type": "code",
      "execution_count": 42,
      "id": "357c1a21",
      "metadata": {
        "colab": {
          "base_uri": "https://localhost:8080/"
        },
        "id": "357c1a21",
        "outputId": "26495dad-92cf-4b1a-cce7-9d3466f620cb"
      },
      "outputs": [
        {
          "output_type": "stream",
          "name": "stdout",
          "text": [
            "Dando uma lidinha\n"
          ]
        }
      ],
      "source": [
        "# Lendo o arquivo\n",
        "print(a1.read())"
      ]
    },
    {
      "cell_type": "markdown",
      "id": "efa8e93d",
      "metadata": {
        "id": "efa8e93d"
      },
      "source": [
        "# Gravando arquivos (.txt)"
      ]
    },
    {
      "cell_type": "code",
      "execution_count": 43,
      "id": "8c14677e",
      "metadata": {
        "id": "8c14677e"
      },
      "outputs": [],
      "source": [
        "#Abrindo o arquivo para gravação\n",
        "a2 = open(f'{path}/arquivo2.txt', \"w\")"
      ]
    },
    {
      "cell_type": "code",
      "execution_count": 44,
      "id": "4ea6bb22",
      "metadata": {
        "colab": {
          "base_uri": "https://localhost:8080/"
        },
        "id": "4ea6bb22",
        "outputId": "982748bf-918d-4f87-e53d-cb9bba65951f"
      },
      "outputs": [
        {
          "output_type": "execute_result",
          "data": {
            "text/plain": [
              "17"
            ]
          },
          "metadata": {},
          "execution_count": 44
        }
      ],
      "source": [
        "# Gravando no arquivo\n",
        "a2.write(\"Aprendendo Python\")"
      ]
    },
    {
      "cell_type": "code",
      "execution_count": 48,
      "id": "a7a03879",
      "metadata": {
        "id": "a7a03879"
      },
      "outputs": [],
      "source": [
        "# Abrindo o arquivo para leitura\n",
        "a2 = open(f'{path}/arquivo2.txt', \"r\")"
      ]
    },
    {
      "cell_type": "code",
      "execution_count": 49,
      "id": "174c1332",
      "metadata": {
        "colab": {
          "base_uri": "https://localhost:8080/"
        },
        "id": "174c1332",
        "outputId": "fa88af5b-2dbf-4e2c-d515-298687c843f7"
      },
      "outputs": [
        {
          "output_type": "stream",
          "name": "stdout",
          "text": [
            "Aprendendo Python\n"
          ]
        }
      ],
      "source": [
        "# Imprimindo arquivo\n",
        "print(a2.read())"
      ]
    }
  ],
  "metadata": {
    "kernelspec": {
      "display_name": "Python 3 (ipykernel)",
      "language": "python",
      "name": "python3"
    },
    "language_info": {
      "codemirror_mode": {
        "name": "ipython",
        "version": 3
      },
      "file_extension": ".py",
      "mimetype": "text/x-python",
      "name": "python",
      "nbconvert_exporter": "python",
      "pygments_lexer": "ipython3",
      "version": "3.10.9"
    },
    "colab": {
      "provenance": [],
      "include_colab_link": true
    }
  },
  "nbformat": 4,
  "nbformat_minor": 5
}